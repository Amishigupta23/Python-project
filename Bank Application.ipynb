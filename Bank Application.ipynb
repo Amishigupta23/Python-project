{
  "nbformat": 4,
  "nbformat_minor": 0,
  "metadata": {
    "colab": {
      "name": "Bank Application",
      "provenance": [],
      "collapsed_sections": []
    },
    "kernelspec": {
      "name": "python3",
      "display_name": "Python 3"
    }
  },
  "cells": [
    {
      "cell_type": "markdown",
      "metadata": {
        "id": "2i36Yv3-MPY5"
      },
      "source": [
        "### Problem Statement \n",
        "\n",
        "In this project, you have to write a computer program to create an interactive bank application for the Horizon Bank. The application must have two simple functionalities:\n",
        "\n",
        "1. Allow a customer to create a new bank account with their following personal details:\n",
        "\n",
        "   - Full name\n",
        "\n",
        "   - Permanent residential address\n",
        "\n",
        "   - Personal or residential phone number\n",
        "\n",
        "   - Valid government-issued identification \n",
        "\n",
        "   - Amount to be deposited to the account\n",
        "\n",
        "2. Allow an existing customer of the bank to \n",
        "\n",
        "   - Check their bank balance\n",
        "   \n",
        "   - Withdraw some amount from their account provided that the withdrawal amount is less than the available bank balance\n",
        "   \n",
        "   - Deposit some amount to their account\n"
      ]
    },
    {
      "cell_type": "markdown",
      "metadata": {
        "id": "d55HBFcBpENK"
      },
      "source": [
        "---"
      ]
    },
    {
      "cell_type": "markdown",
      "metadata": {
        "id": "UCusTfW0tcxe"
      },
      "source": [
        "#### 1. Customer Data\n",
        "\n",
        "Create an empty dictionary and store it in a variable. Also create a list holding the attributes to be filled by a customer. Store the list in a variable. The list must contain the following attributes in the same order.\n",
        "\n",
        "`'name', 'address', 'phone num', 'govt id', 'amount'`"
      ]
    },
    {
      "cell_type": "code",
      "metadata": {
        "id": "6RL71w3ntzcH"
      },
      "source": [
        "# Create the dictionary and the list.\n",
        "cust_data = {}\n",
        "new_user_attributes = ['name', 'address', 'phone num', 'govt id', 'amount']"
      ],
      "execution_count": null,
      "outputs": []
    },
    {
      "cell_type": "markdown",
      "metadata": {
        "id": "RETr5Tv1JBls"
      },
      "source": [
        "---"
      ]
    },
    {
      "cell_type": "markdown",
      "metadata": {
        "id": "0_OEabQbGQcP"
      },
      "source": [
        "#### 2. Add New User\n",
        "\n",
        "Create a function to add a new user to the  dictionary.To do this, follow the steps described below.\n",
        "\n",
        "**Step 1**: Create a random five-digit account number (ranging between 10000 to 99999) for a new customer. Make sure that it doesn't already exist in the  dictionary.\n",
        "\n",
        "**Step 2**: Create an empty list and store it in a variable. This list is used to store the details of the user that is given in the list.\n",
        "\n",
        "**Step 3**: Prompt the user to enter all of their required details one-by-one and add  them to the list. Make sure that the amount added to the list is an integer data-type.\n",
        "\n",
        "**Step 4**: Create a dictionary for the new user and add it to the dictionary."
      ]
    },
    {
      "cell_type": "code",
      "metadata": {
        "id": "mROhcvIy0ML6",
        "colab": {
          "base_uri": "https://localhost:8080/"
        },
        "outputId": "165ba071-5e4d-4c3b-b6e8-61ecbf435ec6"
      },
      "source": [
        "# Create the function to add a new user to the dictionary. \n",
        "import random\n",
        "def new_user():\n",
        "  # Step 1: Create a random five-digit account number\n",
        "  acc_no = random.randint(10000, 99999)\n",
        "  if acc_no in cust_data:\n",
        "    acc_no = random.randint(10000 , 99999)\n",
        "  \n",
        "  # Step 2: Create an empty list and store it in the new_user_input variable.\n",
        "  new_user_input = []\n",
        "  # Step 3: Prompt the user to enter all of their required details one-by-one and add them to the list.\n",
        "  name = input(\"Enter your name: \")\n",
        "  new_user_input.append(name)\n",
        "\n",
        "  address = input(\"Enter your address: \")\n",
        "  new_user_input.append(address)\n",
        "\n",
        "  phone_no = input(\"Enter your phone number: \")\n",
        "  new_user_input.append(phone_no)\n",
        "\n",
        "  govt_id = input(\"Enter your government ID: \")\n",
        "  new_user_input.append(govt_id)\n",
        "\n",
        "  amount = int(input(\"Enter the amount: \"))\n",
        "  new_user_input.append(amount)\n",
        "  \n",
        "  # Step 4: Create a dictionary for the new user and add it to the dictionary.\n",
        "  cust_dict = dict(zip(new_user_attributes , new_user_input))\n",
        "  acc_dict = {acc_no:{'name':new_user_input[0], 'address':new_user_input[1],'phone_no':new_user_input[2],'govt_id':new_user_input[3],'amount':new_user_input[4]}}\n",
        "  cust_data.update(acc_dict)\n",
        "  # Step 5: Display the message of successfull account creation to the user.\n",
        "  print('Your details are added successfully ')\n",
        "  print('Your account no. is ', acc_no)\n",
        "  print(\"Please don't lose it \")\n",
        "\n",
        "new_user()"
      ],
      "execution_count": null,
      "outputs": [
        {
          "output_type": "stream",
          "name": "stdout",
          "text": [
            "Enter your name: amishi\n",
            "Enter your address: 123abc\n",
            "Enter your phone number: 3452786\n",
            "Enter your government ID: ui76tyjk\n",
            "Enter the amount: 10980\n",
            "Your details are added successfully \n",
            "Your account no. is  13296\n",
            "Please don't lose it \n"
          ]
        }
      ]
    },
    {
      "cell_type": "markdown",
      "metadata": {
        "id": "aJJT0ojPGPcd"
      },
      "source": [
        "---"
      ]
    },
    {
      "cell_type": "markdown",
      "metadata": {
        "id": "rZsDogK8LaOW"
      },
      "source": [
        "#### 3. Existing User\n",
        "\n",
        "Create a function to get the account details of an existing user from the dictionary."
      ]
    },
    {
      "cell_type": "code",
      "metadata": {
        "id": "8HV3cY6O9LeE",
        "colab": {
          "base_uri": "https://localhost:8080/"
        },
        "outputId": "ea6aa996-275c-454a-f875-fa1524147fbf"
      },
      "source": [
        "# Create a function to get the account details of an existing user from the dictionary.\n",
        "def existing_user():\n",
        "  # Step 1\n",
        "  account_numbers = []\n",
        "  acc_num = int(input('Enter your account number: '))\n",
        "  for i in cust_data.keys():\n",
        "    account_numbers.append(i)\n",
        "  \n",
        "  # Step 2\n",
        "  while acc_num not in cust_data:\n",
        "    acc_num = int(input(\"Not found. Please enter your correct account number:\\n\"))\n",
        "  # Step 3\n",
        "  if acc_num in account_numbers:\n",
        "    print('Welcome', cust_data[acc_num]['name'])\n",
        "    valid_num = [1,2,3]\n",
        "    user_choice = int(input(\"Enter 1 to check your balance. \\n Enter 2 to withdraw an amount. \\n Enter 3 to deposit an amount. \\n Enter here \"))\n",
        "\n",
        "    while user_choice not in valid_num:\n",
        "      print('Invalid input')\n",
        "      user_choice = int(input(\"Enter 1 to check your balance. \\n Enter 2 to withdraw an amount. \\n Enter 3 to deposit an amount. \\n Enter here \"))\n",
        "\n",
        "  # Step 4\n",
        "  if user_choice ==1 :\n",
        "    print('Current balance', cust_data[acc_num]['amount'])\n",
        "\n",
        "  elif user_choice == 2:\n",
        "    amount_withdrawn = int(input('Enter the amount of money to be withdrawn: '))  \n",
        "    if amount_withdrawn > cust_data[acc_num]['amount']:\n",
        "      print('Insufficient balance \\n Available balance: ',cust_data[acc_num]['amount'])\n",
        "\n",
        "    elif amount_withdrawn <= cust_data[acc_num]['amount']:\n",
        "      amount_left = int(cust_data[acc_num]['amount']) - amount_withdrawn\n",
        "      cust_data[acc_num]['amount'] = amount_left\n",
        "      print('Withdrawal Successful! \\n Available balance: ',amount_left)\n",
        "\n",
        "  elif user_choice == 3:\n",
        "      amount_to_deposit = int(input('Enter the amount to be deposited: '))\n",
        "      amount_added = int(cust_data[acc_num]['amount']) + amount_to_deposit\n",
        "      cust_data[acc_num]['amount'] = amount_added\n",
        "      print('Deposit Successful! \\n Available balance: ',amount_added)  \n",
        "\n",
        "existing_user()"
      ],
      "execution_count": null,
      "outputs": [
        {
          "output_type": "stream",
          "name": "stdout",
          "text": [
            "Enter your account number: 13296\n",
            "Welcome amishi\n",
            "Enter 1 to check your balance. \n",
            " Enter 2 to withdraw an amount. \n",
            " Enter 3 to deposit an amount. \n",
            " Enter here 1\n",
            "Current balance 10980\n"
          ]
        }
      ]
    },
    {
      "cell_type": "markdown",
      "metadata": {
        "id": "gdgW4-R6LVB3"
      },
      "source": [
        "---"
      ]
    },
    {
      "cell_type": "markdown",
      "metadata": {
        "id": "NyHSsEwEoEvH"
      },
      "source": [
        "#### 4. Infinite `while` Loop \n",
        "\n",
        "Finally, create an infinite `while` loop to run the application. Inside the loop:\n",
        "\n",
        "  1. Create a list of valid inputs, i.e., `'1', '2', '3'`\n",
        "\n",
        "  2. If the user enters `1`, then create a new account for the user and get their personal details. After creating the account, terminate the application with a message. \n",
        "\n",
        "  3. Else if the user enters 2, then display their account balance, reduce their balance or increase their balance depending on their further input.\n",
        "\n",
        "  4. Else if the user enters 3, then terminate the application."
      ]
    },
    {
      "cell_type": "code",
      "metadata": {
        "id": "-QAIIkM1qCNr",
        "colab": {
          "base_uri": "https://localhost:8080/"
        },
        "outputId": "23f0d354-5216-40f4-ee50-4ea86910276a"
      },
      "source": [
        "# Create an infinite while loop to run the application.\n",
        "while True :\n",
        "  valid_inputs = ['1','2','3']\n",
        "  user_input = input(\"Welcome to the Horizon Bank! \\n Enter '1' if you are a new customer. \\n Enter '2' if you are an existing customer. \\n Enter '3' to terminate the application. \\n Enter your ans: \" )\n",
        "  while user_input not in valid_inputs:\n",
        "    user_input = input(\"Invalid Input ! \\n Enter '1' if you are a new customer. \\n Enter '2' if you are an existing customer. /n Enter '3' to terminate the application. \\n Enter your ans: \" ) \n",
        "  # If the user enters 1, then create a new account for the user and get their personal details. \n",
        "  if user_input == \"1\":\n",
        "    new_user()\n",
        "    print('Thank you, for banking with us ! ')\n",
        "    break\n",
        "  # If the user enters 2, then display their account balance, reduce their balance or increase their balance depending on their further input.\n",
        "  elif user_input == '2':\n",
        "    existing_user()\n",
        "    print('Thank you, for banking with us ! ')\n",
        "    break\n",
        "  # If the user enters 3, then terminate the application with the 'Thank you, for banking with us!' message. \n",
        "  else :\n",
        "    print('Thank you, for banking with us ! ')\n",
        "    break"
      ],
      "execution_count": null,
      "outputs": [
        {
          "output_type": "stream",
          "name": "stdout",
          "text": [
            "Welcome to the Horizon Bank! \n",
            " Enter '1' if you are a new customer. \n",
            " Enter '2' if you are an existing customer. \n",
            " Enter '3' to terminate the application. \n",
            " Enter your ans: 2\n",
            "Enter your account number: 13296\n",
            "Welcome amishi\n",
            "Enter 1 to check your balance. \n",
            " Enter 2 to withdraw an amount. \n",
            " Enter 3 to deposit an amount. \n",
            " Enter here 1\n",
            "Current balance 10980\n",
            "Thank you, for banking with us ! \n"
          ]
        }
      ]
    },
    {
      "cell_type": "markdown",
      "metadata": {
        "id": "4qIsQMIj-Is3"
      },
      "source": [
        "---"
      ]
    }
  ]
}